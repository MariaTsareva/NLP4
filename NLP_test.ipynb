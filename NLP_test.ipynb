{
 "cells": [
  {
   "cell_type": "markdown",
   "metadata": {},
   "source": [
    "**Задание 1. Вариант 2**"
   ]
  },
  {
   "cell_type": "code",
   "execution_count": 1,
   "metadata": {},
   "outputs": [],
   "source": [
    "import textdistance"
   ]
  },
  {
   "cell_type": "code",
   "execution_count": 15,
   "metadata": {},
   "outputs": [],
   "source": [
    "sen1 = 'Далее: готовы ли клюквенный сок, острый нож, штопор для выковыривания глаз, шило для ушей?'\n",
    "sen2 = 'Посолить, заправить маслом и уксусом и начать готовить острый томатный соус, который подают отдельно.'\n",
    "sim12 = textdistance.sorensen_dice(sen1, sen2)"
   ]
  },
  {
   "cell_type": "code",
   "execution_count": 16,
   "metadata": {},
   "outputs": [],
   "source": [
    "sen3 = 'Хорошо, кабы Медвежонок наведался: у него и топор острый, и пила есть, и специальные саночки, чтобы дрова возить…'\n",
    "sen4 = 'Туда отправляем мелко нарезанными репчатый лук, копченый бекон или сырое жирное мясо, имбирь, \\\n",
    "сладкий перец, острый перец, всяческие приправы.'\n",
    "sim34 = textdistance.sorensen_dice(sen3, sen4)"
   ]
  },
  {
   "cell_type": "code",
   "execution_count": 17,
   "metadata": {},
   "outputs": [],
   "source": [
    "sim13 = textdistance.sorensen_dice(sen1, sen3)"
   ]
  },
  {
   "cell_type": "code",
   "execution_count": 18,
   "metadata": {},
   "outputs": [],
   "source": [
    "sim14 = textdistance.sorensen_dice(sen1, sen4)"
   ]
  },
  {
   "cell_type": "code",
   "execution_count": 19,
   "metadata": {},
   "outputs": [],
   "source": [
    "sim23 = textdistance.sorensen_dice(sen3, sen2)"
   ]
  },
  {
   "cell_type": "code",
   "execution_count": 20,
   "metadata": {},
   "outputs": [],
   "source": [
    "sim24 = textdistance.sorensen_dice(sen4, sen2)"
   ]
  },
  {
   "cell_type": "code",
   "execution_count": 8,
   "metadata": {},
   "outputs": [
    {
     "data": {
      "text/plain": [
       "0.3403141361256544"
      ]
     },
     "execution_count": 8,
     "metadata": {},
     "output_type": "execute_result"
    }
   ],
   "source": [
    "textdistance.sorensen_dice.distance(sen1, sen2)"
   ]
  },
  {
   "cell_type": "code",
   "execution_count": 9,
   "metadata": {},
   "outputs": [
    {
     "data": {
      "text/plain": [
       "0.24705882352941178"
      ]
     },
     "execution_count": 9,
     "metadata": {},
     "output_type": "execute_result"
    }
   ],
   "source": [
    "textdistance.sorensen_dice.distance(sen3, sen4)"
   ]
  },
  {
   "cell_type": "code",
   "execution_count": 23,
   "metadata": {},
   "outputs": [
    {
     "data": {
      "text/plain": [
       "[(0.7529411764705882, 'sim34'),\n",
       " (0.7383177570093458, 'sim23'),\n",
       " (0.7192118226600985, 'sim13'),\n",
       " (0.6596858638743456, 'sim12'),\n",
       " (0.6551724137931034, 'sim14'),\n",
       " (0.6419753086419753, 'sim24')]"
      ]
     },
     "execution_count": 23,
     "metadata": {},
     "output_type": "execute_result"
    }
   ],
   "source": [
    "sims = [(sim12, 'sim12'), (sim34, 'sim34'), (sim13, 'sim13'), (sim14, 'sim14'), (sim23, 'sim23'), (sim24, 'sim24')]\n",
    "sorted(sims, reverse=True)"
   ]
  },
  {
   "cell_type": "markdown",
   "metadata": {},
   "source": [
    "** Ранжированные предложения**\n",
    "\n",
    "Туда отправляем мелко нарезанными репчатый лук, копченый бекон или сырое жирное мясо, имбирь,\n",
    "сладкий перец, острый перец, всяческие приправы.\n",
    "\n",
    "Хорошо, кабы Медвежонок наведался: у него и топор острый, и пила есть, и специальные саночки, чтобы дрова возить…\n",
    "\n",
    "Посолить, заправить маслом и уксусом и начать готовить острый томатный соус, который подают отдельно.\n",
    "\n",
    "Далее: готовы ли клюквенный сок, острый нож, штопор для выковыривания глаз, шило для ушей?\n"
   ]
  },
  {
   "cell_type": "markdown",
   "metadata": {},
   "source": [
    "** Задание 2. Вариант 2**\n",
    "\n",
    "2 списка\n",
    "\n",
    "Первый: loglikehood right window russian standart\n",
    "какая удача \n",
    "неслыханная\tудача\n",
    "улыбнулась удача\n",
    "случайная удача\n",
    "большая удача\n",
    "редкая удача\n",
    "небывалая удача\n",
    "огромная удача\n",
    "выпадала удача\n",
    "одна удача\n",
    "\n",
    "Второй: russian national dice left word\n",
    "большая удача \n",
    "сопутствует удача\n",
    "жизненная удача\n",
    "улыбалась удача\n",
    "редкая удача\n",
    "крупная удача\n",
    "невероятная удача\n",
    "отвернулась удача\n",
    "журналистская удача\n",
    "помогла удача\n"
   ]
  },
  {
   "cell_type": "code",
   "execution_count": 31,
   "metadata": {},
   "outputs": [],
   "source": [
    "from pymystem3 import Mystem\n",
    "mystem = Mystem()"
   ]
  },
  {
   "cell_type": "code",
   "execution_count": 24,
   "metadata": {},
   "outputs": [],
   "source": [
    "r1 = 'какая удача, неслыханная удача, улыбнулась удача, случайная удача, большая удача, редкая удача, небывалая удача, \\\n",
    "огромная удача, выпадала удача, одна удача'\n",
    "r1 = r1.split(', ')"
   ]
  },
  {
   "cell_type": "code",
   "execution_count": 44,
   "metadata": {},
   "outputs": [],
   "source": [
    "r1_lem = []\n",
    "for r in r1:\n",
    "    r = mystem.lemmatize(r)\n",
    "#     print(r)\n",
    "    r = ' '.join(r)\n",
    "    r1_lem.append(r)"
   ]
  },
  {
   "cell_type": "code",
   "execution_count": 45,
   "metadata": {},
   "outputs": [
    {
     "data": {
      "text/plain": [
       "['какой   удача \\n',\n",
       " 'неслыханный   удача \\n',\n",
       " 'улыбаться   удача \\n',\n",
       " 'случайный   удача \\n',\n",
       " 'большой   удача \\n',\n",
       " 'редкий   удача \\n',\n",
       " 'небывалый   удача \\n',\n",
       " 'огромный   удача \\n',\n",
       " 'выпадать   удача \\n',\n",
       " 'один   удача \\n']"
      ]
     },
     "execution_count": 45,
     "metadata": {},
     "output_type": "execute_result"
    }
   ],
   "source": [
    "r1_lem"
   ]
  },
  {
   "cell_type": "code",
   "execution_count": 46,
   "metadata": {},
   "outputs": [
    {
     "data": {
      "text/plain": [
       "['большая удача',\n",
       " 'сопутствует удача',\n",
       " 'жизненная удача',\n",
       " 'улыбалась удача',\n",
       " 'редкая удача',\n",
       " 'крупная удача',\n",
       " 'невероятная удача',\n",
       " 'отвернулась удача',\n",
       " 'журналистская удача',\n",
       " 'помогла удача']"
      ]
     },
     "execution_count": 46,
     "metadata": {},
     "output_type": "execute_result"
    }
   ],
   "source": [
    "r2 = 'большая удача, сопутствует удача, жизненная удача, улыбалась удача, редкая удача, крупная удача, невероятная удача, \\\n",
    "отвернулась удача, журналистская удача, помогла удача'\n",
    "r2 = r2.split(', ')\n",
    "r2"
   ]
  },
  {
   "cell_type": "code",
   "execution_count": 47,
   "metadata": {},
   "outputs": [],
   "source": [
    "r2_lem = []\n",
    "for r in r2:\n",
    "    r = mystem.lemmatize(r)\n",
    "#     print(r)\n",
    "    r = ' '.join(r)\n",
    "    r2_lem.append(r)"
   ]
  },
  {
   "cell_type": "code",
   "execution_count": 50,
   "metadata": {},
   "outputs": [
    {
     "data": {
      "text/plain": [
       "['большой   удача \\n',\n",
       " 'сопутствовать   удача \\n',\n",
       " 'жизненный   удача \\n',\n",
       " 'улыбаться   удача \\n',\n",
       " 'редкий   удача \\n',\n",
       " 'крупный   удача \\n',\n",
       " 'невероятный   удача \\n',\n",
       " 'отвертываться   удача \\n',\n",
       " 'журналистский   удача \\n',\n",
       " 'помогать   удача \\n']"
      ]
     },
     "execution_count": 50,
     "metadata": {},
     "output_type": "execute_result"
    }
   ],
   "source": [
    "r2_lem"
   ]
  },
  {
   "cell_type": "code",
   "execution_count": 51,
   "metadata": {},
   "outputs": [
    {
     "data": {
      "text/plain": [
       "30.0"
      ]
     },
     "execution_count": 51,
     "metadata": {},
     "output_type": "execute_result"
    }
   ],
   "source": [
    "200.0 * len(set(r1_lem) & set(r2_lem)) / (len(r1_lem) + len(r2_lem))"
   ]
  },
  {
   "cell_type": "code",
   "execution_count": 53,
   "metadata": {},
   "outputs": [
    {
     "data": {
      "text/plain": [
       "{'большой   удача \\n', 'редкий   удача \\n', 'улыбаться   удача \\n'}"
      ]
     },
     "execution_count": 53,
     "metadata": {},
     "output_type": "execute_result"
    }
   ],
   "source": [
    "overlap = set(r1_lem) & set(r2_lem)\n",
    "overlap"
   ]
  },
  {
   "cell_type": "code",
   "execution_count": null,
   "metadata": {},
   "outputs": [],
   "source": []
  }
 ],
 "metadata": {
  "kernelspec": {
   "display_name": "Python 3",
   "language": "python",
   "name": "python3"
  },
  "language_info": {
   "codemirror_mode": {
    "name": "ipython",
    "version": 3
   },
   "file_extension": ".py",
   "mimetype": "text/x-python",
   "name": "python",
   "nbconvert_exporter": "python",
   "pygments_lexer": "ipython3",
   "version": "3.6.4"
  }
 },
 "nbformat": 4,
 "nbformat_minor": 2
}
